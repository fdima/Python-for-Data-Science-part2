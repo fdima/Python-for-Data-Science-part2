{
 "cells": [
  {
   "cell_type": "code",
   "execution_count": 1,
   "metadata": {},
   "outputs": [],
   "source": [
    "import numpy as np\n",
    "import pandas as pd\n",
    "import matplotlib.pyplot as plt\n",
    "import seaborn as sns"
   ]
  },
  {
   "cell_type": "code",
   "execution_count": 2,
   "metadata": {},
   "outputs": [],
   "source": [
    "%matplotlib inline\n",
    "%config InlineBackend.figure_format = 'svg'\n",
    "pd.set_option('display.max_columns', 100)"
   ]
  },
  {
   "cell_type": "markdown",
   "metadata": {},
   "source": [
    "#### Обработаем тестовый датасет"
   ]
  },
  {
   "cell_type": "code",
   "execution_count": 3,
   "metadata": {},
   "outputs": [],
   "source": [
    "df = pd.read_csv('course_project_test.csv')\n",
    "# df.sample(5)"
   ]
  },
  {
   "cell_type": "code",
   "execution_count": 4,
   "metadata": {},
   "outputs": [],
   "source": [
    "def mis_values_report(df):\n",
    "    '''Функция считает и выводит пропущенные значения столбцов датафрейма'''\n",
    "    mis_val = df.isnull().sum()\n",
    "    perc_mis_val = 100 * df.isnull().sum() / len(df)\n",
    "    report = pd.concat([mis_val, perc_mis_val], axis=1)\n",
    "    report_columns = report.rename(columns = {0: 'Пропущенные значения', 1: '% от всех значений'})\n",
    "    report_columns = report_columns[report_columns.iloc[:,1] != 0].sort_values('% от всех значений', ascending=False).round(1)\n",
    "    print('Датафрейм имеет ' + str(df.shape[1]) + ' столбцов.\\n' + str(report_columns.shape[0]) + ' столбцов имеют пропущенные значения')\n",
    "    return report_columns"
   ]
  },
  {
   "cell_type": "code",
   "execution_count": 5,
   "metadata": {},
   "outputs": [],
   "source": [
    "# mis_values_report(df)"
   ]
  },
  {
   "cell_type": "code",
   "execution_count": 6,
   "metadata": {},
   "outputs": [],
   "source": [
    "df = df.drop(['Months since last delinquent','Number of Open Accounts','Maximum Open Credit','Current Credit Balance','Monthly Debt', 'Purpose'],axis=1)\n",
    "# df.head()"
   ]
  },
  {
   "cell_type": "code",
   "execution_count": 7,
   "metadata": {},
   "outputs": [
    {
     "name": "stdout",
     "output_type": "stream",
     "text": [
      "Датафрейм имеет 10 столбцов.\n",
      "3 столбцов имеют пропущенные значения\n"
     ]
    },
    {
     "data": {
      "text/html": [
       "<div>\n",
       "<style scoped>\n",
       "    .dataframe tbody tr th:only-of-type {\n",
       "        vertical-align: middle;\n",
       "    }\n",
       "\n",
       "    .dataframe tbody tr th {\n",
       "        vertical-align: top;\n",
       "    }\n",
       "\n",
       "    .dataframe thead th {\n",
       "        text-align: right;\n",
       "    }\n",
       "</style>\n",
       "<table border=\"1\" class=\"dataframe\">\n",
       "  <thead>\n",
       "    <tr style=\"text-align: right;\">\n",
       "      <th></th>\n",
       "      <th>Пропущенные значения</th>\n",
       "      <th>% от всех значений</th>\n",
       "    </tr>\n",
       "  </thead>\n",
       "  <tbody>\n",
       "    <tr>\n",
       "      <th>Annual Income</th>\n",
       "      <td>513</td>\n",
       "      <td>20.5</td>\n",
       "    </tr>\n",
       "    <tr>\n",
       "      <th>Credit Score</th>\n",
       "      <td>513</td>\n",
       "      <td>20.5</td>\n",
       "    </tr>\n",
       "    <tr>\n",
       "      <th>Years in current job</th>\n",
       "      <td>86</td>\n",
       "      <td>3.4</td>\n",
       "    </tr>\n",
       "  </tbody>\n",
       "</table>\n",
       "</div>"
      ],
      "text/plain": [
       "                      Пропущенные значения  % от всех значений\n",
       "Annual Income                          513                20.5\n",
       "Credit Score                           513                20.5\n",
       "Years in current job                    86                 3.4"
      ]
     },
     "execution_count": 7,
     "metadata": {},
     "output_type": "execute_result"
    }
   ],
   "source": [
    "# df['Bankruptcies'].value_counts().plot(kind='bar')\n",
    "df['Bankruptcies'].fillna(float(0), inplace = True)\n",
    "mis_values_report(df)"
   ]
  },
  {
   "cell_type": "code",
   "execution_count": 8,
   "metadata": {},
   "outputs": [],
   "source": [
    "# plt.figure(figsize=(10,6))\n",
    "# sns.countplot(df['Years in current job'])"
   ]
  },
  {
   "cell_type": "code",
   "execution_count": 9,
   "metadata": {},
   "outputs": [],
   "source": [
    "df['Years in current job'].fillna('10+ years', inplace = True)\n",
    "# mis_values_report(df)"
   ]
  },
  {
   "cell_type": "code",
   "execution_count": 10,
   "metadata": {},
   "outputs": [],
   "source": [
    "# df['Credit Score'].hist()"
   ]
  },
  {
   "cell_type": "code",
   "execution_count": 11,
   "metadata": {},
   "outputs": [],
   "source": [
    "df['Credit Score'] = df['Credit Score'].apply(lambda val: (val / 10) if val > 850 else val)\n",
    "df['Credit Score'].fillna(df['Credit Score'].mean(), inplace=True)\n",
    "# sns.boxplot(x=df['Credit Score'])"
   ]
  },
  {
   "cell_type": "code",
   "execution_count": 12,
   "metadata": {},
   "outputs": [],
   "source": [
    "df['Annual Income'].fillna(df['Annual Income'].mean(), inplace=True)"
   ]
  },
  {
   "cell_type": "code",
   "execution_count": 13,
   "metadata": {},
   "outputs": [],
   "source": [
    "# mis_values_report(df)"
   ]
  },
  {
   "cell_type": "code",
   "execution_count": 14,
   "metadata": {},
   "outputs": [],
   "source": [
    "df['Term'].replace(('Short Term','Long Term'),(0,1), inplace=True)"
   ]
  },
  {
   "cell_type": "code",
   "execution_count": 15,
   "metadata": {},
   "outputs": [],
   "source": [
    "df['Credit Score'] = df['Credit Score'].apply(lambda val: \"Poor\" if np.isreal(val) and val < 580 else val)\n",
    "df['Credit Score'] = df['Credit Score'].apply(lambda val: \"Average\" if np.isreal(val) and (val >= 580 and val < 670) else val)\n",
    "df['Credit Score'] = df['Credit Score'].apply(lambda val: \"Good\" if np.isreal(val) and (val >= 670 and val < 740) else val)\n",
    "df['Credit Score'] = df['Credit Score'].apply(lambda val: \"Very Good\" if np.isreal(val) and (val >= 740 and val < 800) else val)\n",
    "df['Credit Score'] = df['Credit Score'].apply(lambda val: \"Exceptional\" if np.isreal(val) and (val >= 800 and val <= 850) else val)"
   ]
  },
  {
   "cell_type": "code",
   "execution_count": 16,
   "metadata": {},
   "outputs": [],
   "source": [
    "# sns.countplot(df['Credit Score'])"
   ]
  },
  {
   "cell_type": "code",
   "execution_count": 17,
   "metadata": {},
   "outputs": [
    {
     "data": {
      "text/html": [
       "<div>\n",
       "<style scoped>\n",
       "    .dataframe tbody tr th:only-of-type {\n",
       "        vertical-align: middle;\n",
       "    }\n",
       "\n",
       "    .dataframe tbody tr th {\n",
       "        vertical-align: top;\n",
       "    }\n",
       "\n",
       "    .dataframe thead th {\n",
       "        text-align: right;\n",
       "    }\n",
       "</style>\n",
       "<table border=\"1\" class=\"dataframe\">\n",
       "  <thead>\n",
       "    <tr style=\"text-align: right;\">\n",
       "      <th></th>\n",
       "      <th>Home Ownership</th>\n",
       "      <th>Annual Income</th>\n",
       "      <th>Years in current job</th>\n",
       "      <th>Tax Liens</th>\n",
       "      <th>Years of Credit History</th>\n",
       "      <th>Number of Credit Problems</th>\n",
       "      <th>Bankruptcies</th>\n",
       "      <th>Term</th>\n",
       "      <th>Current Loan Amount</th>\n",
       "      <th>Credit Score</th>\n",
       "      <th>Credit Good</th>\n",
       "      <th>Credit Very Good</th>\n",
       "    </tr>\n",
       "  </thead>\n",
       "  <tbody>\n",
       "    <tr>\n",
       "      <th>0</th>\n",
       "      <td>Rent</td>\n",
       "      <td>1.366922e+06</td>\n",
       "      <td>4 years</td>\n",
       "      <td>0.0</td>\n",
       "      <td>12.5</td>\n",
       "      <td>0.0</td>\n",
       "      <td>0.0</td>\n",
       "      <td>0</td>\n",
       "      <td>162470.0</td>\n",
       "      <td>Good</td>\n",
       "      <td>1</td>\n",
       "      <td>0</td>\n",
       "    </tr>\n",
       "    <tr>\n",
       "      <th>1</th>\n",
       "      <td>Rent</td>\n",
       "      <td>2.318380e+05</td>\n",
       "      <td>1 year</td>\n",
       "      <td>0.0</td>\n",
       "      <td>32.7</td>\n",
       "      <td>0.0</td>\n",
       "      <td>0.0</td>\n",
       "      <td>0</td>\n",
       "      <td>78298.0</td>\n",
       "      <td>Good</td>\n",
       "      <td>1</td>\n",
       "      <td>0</td>\n",
       "    </tr>\n",
       "    <tr>\n",
       "      <th>2</th>\n",
       "      <td>Home Mortgage</td>\n",
       "      <td>1.152540e+06</td>\n",
       "      <td>3 years</td>\n",
       "      <td>0.0</td>\n",
       "      <td>13.7</td>\n",
       "      <td>0.0</td>\n",
       "      <td>0.0</td>\n",
       "      <td>0</td>\n",
       "      <td>200178.0</td>\n",
       "      <td>Good</td>\n",
       "      <td>1</td>\n",
       "      <td>0</td>\n",
       "    </tr>\n",
       "    <tr>\n",
       "      <th>3</th>\n",
       "      <td>Home Mortgage</td>\n",
       "      <td>1.220313e+06</td>\n",
       "      <td>10+ years</td>\n",
       "      <td>0.0</td>\n",
       "      <td>17.0</td>\n",
       "      <td>0.0</td>\n",
       "      <td>0.0</td>\n",
       "      <td>0</td>\n",
       "      <td>217382.0</td>\n",
       "      <td>Good</td>\n",
       "      <td>1</td>\n",
       "      <td>0</td>\n",
       "    </tr>\n",
       "    <tr>\n",
       "      <th>4</th>\n",
       "      <td>Home Mortgage</td>\n",
       "      <td>2.340952e+06</td>\n",
       "      <td>6 years</td>\n",
       "      <td>0.0</td>\n",
       "      <td>23.6</td>\n",
       "      <td>0.0</td>\n",
       "      <td>0.0</td>\n",
       "      <td>1</td>\n",
       "      <td>777634.0</td>\n",
       "      <td>Good</td>\n",
       "      <td>1</td>\n",
       "      <td>0</td>\n",
       "    </tr>\n",
       "    <tr>\n",
       "      <th>...</th>\n",
       "      <td>...</td>\n",
       "      <td>...</td>\n",
       "      <td>...</td>\n",
       "      <td>...</td>\n",
       "      <td>...</td>\n",
       "      <td>...</td>\n",
       "      <td>...</td>\n",
       "      <td>...</td>\n",
       "      <td>...</td>\n",
       "      <td>...</td>\n",
       "      <td>...</td>\n",
       "      <td>...</td>\n",
       "    </tr>\n",
       "    <tr>\n",
       "      <th>2495</th>\n",
       "      <td>Home Mortgage</td>\n",
       "      <td>1.020053e+06</td>\n",
       "      <td>10+ years</td>\n",
       "      <td>0.0</td>\n",
       "      <td>29.1</td>\n",
       "      <td>1.0</td>\n",
       "      <td>1.0</td>\n",
       "      <td>0</td>\n",
       "      <td>99999999.0</td>\n",
       "      <td>Very Good</td>\n",
       "      <td>0</td>\n",
       "      <td>1</td>\n",
       "    </tr>\n",
       "    <tr>\n",
       "      <th>2496</th>\n",
       "      <td>Home Mortgage</td>\n",
       "      <td>1.366922e+06</td>\n",
       "      <td>2 years</td>\n",
       "      <td>0.0</td>\n",
       "      <td>17.0</td>\n",
       "      <td>0.0</td>\n",
       "      <td>0.0</td>\n",
       "      <td>0</td>\n",
       "      <td>468512.0</td>\n",
       "      <td>Good</td>\n",
       "      <td>1</td>\n",
       "      <td>0</td>\n",
       "    </tr>\n",
       "    <tr>\n",
       "      <th>2497</th>\n",
       "      <td>Home Mortgage</td>\n",
       "      <td>1.171806e+06</td>\n",
       "      <td>2 years</td>\n",
       "      <td>0.0</td>\n",
       "      <td>12.8</td>\n",
       "      <td>0.0</td>\n",
       "      <td>0.0</td>\n",
       "      <td>0</td>\n",
       "      <td>430496.0</td>\n",
       "      <td>Good</td>\n",
       "      <td>1</td>\n",
       "      <td>0</td>\n",
       "    </tr>\n",
       "    <tr>\n",
       "      <th>2498</th>\n",
       "      <td>Rent</td>\n",
       "      <td>7.235200e+05</td>\n",
       "      <td>10+ years</td>\n",
       "      <td>0.0</td>\n",
       "      <td>28.8</td>\n",
       "      <td>0.0</td>\n",
       "      <td>0.0</td>\n",
       "      <td>0</td>\n",
       "      <td>257774.0</td>\n",
       "      <td>Very Good</td>\n",
       "      <td>0</td>\n",
       "      <td>1</td>\n",
       "    </tr>\n",
       "    <tr>\n",
       "      <th>2499</th>\n",
       "      <td>Rent</td>\n",
       "      <td>1.694439e+06</td>\n",
       "      <td>10+ years</td>\n",
       "      <td>0.0</td>\n",
       "      <td>18.4</td>\n",
       "      <td>1.0</td>\n",
       "      <td>0.0</td>\n",
       "      <td>1</td>\n",
       "      <td>763004.0</td>\n",
       "      <td>Good</td>\n",
       "      <td>1</td>\n",
       "      <td>0</td>\n",
       "    </tr>\n",
       "  </tbody>\n",
       "</table>\n",
       "<p>2500 rows × 12 columns</p>\n",
       "</div>"
      ],
      "text/plain": [
       "     Home Ownership  Annual Income Years in current job  Tax Liens  \\\n",
       "0              Rent   1.366922e+06              4 years        0.0   \n",
       "1              Rent   2.318380e+05               1 year        0.0   \n",
       "2     Home Mortgage   1.152540e+06              3 years        0.0   \n",
       "3     Home Mortgage   1.220313e+06            10+ years        0.0   \n",
       "4     Home Mortgage   2.340952e+06              6 years        0.0   \n",
       "...             ...            ...                  ...        ...   \n",
       "2495  Home Mortgage   1.020053e+06            10+ years        0.0   \n",
       "2496  Home Mortgage   1.366922e+06              2 years        0.0   \n",
       "2497  Home Mortgage   1.171806e+06              2 years        0.0   \n",
       "2498           Rent   7.235200e+05            10+ years        0.0   \n",
       "2499           Rent   1.694439e+06            10+ years        0.0   \n",
       "\n",
       "      Years of Credit History  Number of Credit Problems  Bankruptcies  Term  \\\n",
       "0                        12.5                        0.0           0.0     0   \n",
       "1                        32.7                        0.0           0.0     0   \n",
       "2                        13.7                        0.0           0.0     0   \n",
       "3                        17.0                        0.0           0.0     0   \n",
       "4                        23.6                        0.0           0.0     1   \n",
       "...                       ...                        ...           ...   ...   \n",
       "2495                     29.1                        1.0           1.0     0   \n",
       "2496                     17.0                        0.0           0.0     0   \n",
       "2497                     12.8                        0.0           0.0     0   \n",
       "2498                     28.8                        0.0           0.0     0   \n",
       "2499                     18.4                        1.0           0.0     1   \n",
       "\n",
       "      Current Loan Amount Credit Score  Credit Good  Credit Very Good  \n",
       "0                162470.0         Good            1                 0  \n",
       "1                 78298.0         Good            1                 0  \n",
       "2                200178.0         Good            1                 0  \n",
       "3                217382.0         Good            1                 0  \n",
       "4                777634.0         Good            1                 0  \n",
       "...                   ...          ...          ...               ...  \n",
       "2495           99999999.0    Very Good            0                 1  \n",
       "2496             468512.0         Good            1                 0  \n",
       "2497             430496.0         Good            1                 0  \n",
       "2498             257774.0    Very Good            0                 1  \n",
       "2499             763004.0         Good            1                 0  \n",
       "\n",
       "[2500 rows x 12 columns]"
      ]
     },
     "execution_count": 17,
     "metadata": {},
     "output_type": "execute_result"
    }
   ],
   "source": [
    "df = df.join(pd.get_dummies(df['Credit Score'], drop_first = True))\n",
    "df.rename(index = str, columns={'Good':'Credit Good', 'Very Good':'Credit Very Good'})"
   ]
  },
  {
   "cell_type": "code",
   "execution_count": 18,
   "metadata": {},
   "outputs": [],
   "source": [
    "df = df.drop(['Credit Score'], axis=1)"
   ]
  },
  {
   "cell_type": "code",
   "execution_count": 19,
   "metadata": {},
   "outputs": [],
   "source": [
    "# df['Home Ownership'].value_counts().sort_values(ascending = True).plot(kind='bar', title='Number of credit based on Home ownership')"
   ]
  },
  {
   "cell_type": "code",
   "execution_count": 20,
   "metadata": {},
   "outputs": [],
   "source": [
    "df = df.join(pd.get_dummies(df['Home Ownership'],drop_first = True))\n",
    "df = df.drop(['Home Ownership'], axis=1)\n",
    "# df.head()"
   ]
  },
  {
   "cell_type": "code",
   "execution_count": 21,
   "metadata": {},
   "outputs": [],
   "source": [
    "df['Years in current job'] = df['Years in current job'].str.extract(r\"(\\d+)\")\n",
    "df['Years in current job'] = df['Years in current job'].astype(float)\n",
    "df['Employment History'] = df['Years in current job'].apply(\n",
    "    lambda x: 'Junior lvl' if x < 4 else ('Middle lvl' if x > 4 and x < 8 else 'Senior lvl'))\n",
    "df = df.drop(['Years in current job'], axis=1)\n",
    "# df.head()"
   ]
  },
  {
   "cell_type": "code",
   "execution_count": 22,
   "metadata": {},
   "outputs": [],
   "source": [
    "df = df.join(pd.get_dummies(df['Employment History'],drop_first = True))"
   ]
  },
  {
   "cell_type": "code",
   "execution_count": 23,
   "metadata": {},
   "outputs": [],
   "source": [
    "df = df.drop(['Employment History'], axis=1)\n",
    "# df.head()"
   ]
  },
  {
   "cell_type": "code",
   "execution_count": 24,
   "metadata": {},
   "outputs": [],
   "source": [
    "df['Credit Problems'] = df['Number of Credit Problems'].apply(\n",
    "    lambda x: \"No Credit Problems\" if x==0 else (\"Some Credit promblem\" if x>0 and x<5 else \"Big Credit Problems\"))"
   ]
  },
  {
   "cell_type": "code",
   "execution_count": 25,
   "metadata": {},
   "outputs": [],
   "source": [
    "df = df.join(pd.get_dummies(df['Credit Problems'],drop_first = True))\n",
    "df = df.drop(['Credit Problems','Number of Credit Problems'], axis=1)\n",
    "# df.head()"
   ]
  },
  {
   "cell_type": "code",
   "execution_count": 26,
   "metadata": {},
   "outputs": [],
   "source": [
    "df['Credit Age'] = df['Years of Credit History'].apply(\n",
    "    lambda x: \"Short Credit Age\" if x<5 else (\"Good Credit Age\" if x>5 and x<17 else \"Excellent Credit Age\"))"
   ]
  },
  {
   "cell_type": "code",
   "execution_count": 27,
   "metadata": {},
   "outputs": [],
   "source": [
    "df = df.join(pd.get_dummies(df['Credit Age'],drop_first = True))\n",
    "df = df.drop(['Credit Age','Years of Credit History'], axis =1)\n",
    "# df.head()"
   ]
  },
  {
   "cell_type": "code",
   "execution_count": 28,
   "metadata": {},
   "outputs": [],
   "source": [
    "df['Tax Liens'] = df['Tax Liens'].apply(\n",
    "    lambda x: \"No Tax Lien\" if x==0 else (\"Some Tax Liens\" if x>0 and x<3 else \"Many Tax Liens\"))"
   ]
  },
  {
   "cell_type": "code",
   "execution_count": 29,
   "metadata": {},
   "outputs": [],
   "source": [
    "df = df.join(pd.get_dummies(df['Tax Liens'],drop_first = True))\n",
    "df = df.drop(['Tax Liens'],axis=1)\n",
    "# df.head()"
   ]
  },
  {
   "cell_type": "code",
   "execution_count": 30,
   "metadata": {},
   "outputs": [],
   "source": [
    "df['Bankruptcies'] = df['Bankruptcies'].apply(\n",
    "    lambda x: \"No Bankruptcies\" if x==0 else (\"Some Bankruptcies\" if x>0 and x<3 else \"Many Bankruptcies\"))\n",
    "df = df.join(pd.get_dummies(df['Bankruptcies'],drop_first = True))\n",
    "df = df.drop(['Bankruptcies'],axis=1)\n",
    "# df.head()"
   ]
  },
  {
   "cell_type": "code",
   "execution_count": 31,
   "metadata": {},
   "outputs": [
    {
     "name": "stdout",
     "output_type": "stream",
     "text": [
      "549332.5668087583 2184510.7849778547\n"
     ]
    }
   ],
   "source": [
    "mean_income = df['Annual Income'].mean()\n",
    "std_income = df['Annual Income'].std()\n",
    "poorline = mean_income - std_income\n",
    "richline = mean_income + std_income\n",
    "print(poorline, richline)"
   ]
  },
  {
   "cell_type": "code",
   "execution_count": 32,
   "metadata": {},
   "outputs": [],
   "source": [
    "df['Annual Income'] = df['Annual Income'].apply(\n",
    "    lambda x: \"Low Income\" if x <= poorline else (\"Average Income\" if x > poorline and x < richline else \"High Income\"))"
   ]
  },
  {
   "cell_type": "code",
   "execution_count": 33,
   "metadata": {},
   "outputs": [],
   "source": [
    "df = df.join(pd.get_dummies(df['Annual Income'],drop_first = True))\n",
    "df = df.drop(['Annual Income'], axis=1)\n",
    "# df.head()"
   ]
  },
  {
   "cell_type": "code",
   "execution_count": 34,
   "metadata": {},
   "outputs": [
    {
     "name": "stdout",
     "output_type": "stream",
     "text": [
      "130222.3527286081 495560.1075528263\n"
     ]
    }
   ],
   "source": [
    "lmeanxoutlier = df[df['Current Loan Amount'] < 99999999.00 ]['Current Loan Amount'].mean()\n",
    "lstddevxoutlier = df[df['Current Loan Amount'] < 99999999.00 ]['Current Loan Amount'].std()\n",
    "lowrange = lmeanxoutlier - lstddevxoutlier\n",
    "highrange = lmeanxoutlier + lstddevxoutlier\n",
    "print(lowrange, highrange)"
   ]
  },
  {
   "cell_type": "code",
   "execution_count": 35,
   "metadata": {},
   "outputs": [],
   "source": [
    "df['Current Loan Amount'] = df['Current Loan Amount'].apply(\n",
    "    lambda x: \"Small Loan\" if x<=lowrange else (\"Medium Loan\" if x>lowrange and x<highrange else \"Big Loan\"))"
   ]
  },
  {
   "cell_type": "code",
   "execution_count": 36,
   "metadata": {},
   "outputs": [],
   "source": [
    "df = df.join(pd.get_dummies(df['Current Loan Amount'],drop_first = True))\n",
    "df = df.drop(['Current Loan Amount'], axis=1)\n",
    "# df.head()"
   ]
  },
  {
   "cell_type": "markdown",
   "metadata": {},
   "source": [
    "#### Загрузим модели"
   ]
  },
  {
   "cell_type": "code",
   "execution_count": 37,
   "metadata": {},
   "outputs": [],
   "source": [
    "import joblib\n",
    "catboost_upsamled = joblib.load('catboost_upsamled.pkl')\n",
    "sgd_SMOTE = joblib.load('sgd_SMOTE.pkl')\n",
    "xgbc_upsampled = joblib.load('xgbc_upsampled.pkl')"
   ]
  },
  {
   "cell_type": "code",
   "execution_count": 38,
   "metadata": {},
   "outputs": [],
   "source": [
    "# catboost upsampled\n",
    "y_pred_catboost = catboost_upsamled.predict(df)\n",
    "\n",
    "# SGDClassifier SMOTE\n",
    "y_pred_sgd = sgd_SMOTE.predict(df)\n",
    "\n",
    "# Xg_Boost upsampled\n",
    "y_pred_xgb = xgbc_upsampled.predict(df)"
   ]
  },
  {
   "cell_type": "code",
   "execution_count": 39,
   "metadata": {},
   "outputs": [
    {
     "name": "stdout",
     "output_type": "stream",
     "text": [
      "(2500,)\n",
      "(2500,)\n",
      "(2500,)\n"
     ]
    }
   ],
   "source": [
    "print(y_pred_catboost.shape)\n",
    "print(y_pred_sgd.shape)\n",
    "print(y_pred_xgb.shape)"
   ]
  },
  {
   "cell_type": "code",
   "execution_count": 40,
   "metadata": {},
   "outputs": [
    {
     "data": {
      "text/plain": [
       "(2500,)"
      ]
     },
     "execution_count": 40,
     "metadata": {},
     "output_type": "execute_result"
    }
   ],
   "source": [
    "num_id = np.arange(7500,10000)\n",
    "num_id.shape"
   ]
  },
  {
   "cell_type": "code",
   "execution_count": 41,
   "metadata": {},
   "outputs": [],
   "source": [
    "features = ['Id','Credit Default']\n",
    "predict_catboost = pd.DataFrame({'Id': num_id, 'Credit Default': y_pred_catboost},\n",
    "                       columns = features, dtype=np.int32)"
   ]
  },
  {
   "cell_type": "code",
   "execution_count": 42,
   "metadata": {},
   "outputs": [
    {
     "data": {
      "text/html": [
       "<div>\n",
       "<style scoped>\n",
       "    .dataframe tbody tr th:only-of-type {\n",
       "        vertical-align: middle;\n",
       "    }\n",
       "\n",
       "    .dataframe tbody tr th {\n",
       "        vertical-align: top;\n",
       "    }\n",
       "\n",
       "    .dataframe thead th {\n",
       "        text-align: right;\n",
       "    }\n",
       "</style>\n",
       "<table border=\"1\" class=\"dataframe\">\n",
       "  <thead>\n",
       "    <tr style=\"text-align: right;\">\n",
       "      <th></th>\n",
       "      <th>Id</th>\n",
       "      <th>Credit Default</th>\n",
       "    </tr>\n",
       "  </thead>\n",
       "  <tbody>\n",
       "    <tr>\n",
       "      <th>0</th>\n",
       "      <td>7500</td>\n",
       "      <td>1</td>\n",
       "    </tr>\n",
       "    <tr>\n",
       "      <th>1</th>\n",
       "      <td>7501</td>\n",
       "      <td>1</td>\n",
       "    </tr>\n",
       "    <tr>\n",
       "      <th>2</th>\n",
       "      <td>7502</td>\n",
       "      <td>0</td>\n",
       "    </tr>\n",
       "    <tr>\n",
       "      <th>3</th>\n",
       "      <td>7503</td>\n",
       "      <td>0</td>\n",
       "    </tr>\n",
       "    <tr>\n",
       "      <th>4</th>\n",
       "      <td>7504</td>\n",
       "      <td>0</td>\n",
       "    </tr>\n",
       "  </tbody>\n",
       "</table>\n",
       "</div>"
      ],
      "text/plain": [
       "     Id  Credit Default\n",
       "0  7500               1\n",
       "1  7501               1\n",
       "2  7502               0\n",
       "3  7503               0\n",
       "4  7504               0"
      ]
     },
     "execution_count": 42,
     "metadata": {},
     "output_type": "execute_result"
    }
   ],
   "source": [
    "predict_catboost.head()"
   ]
  },
  {
   "cell_type": "code",
   "execution_count": 43,
   "metadata": {},
   "outputs": [],
   "source": [
    "predict_sgd = pd.DataFrame({'Id': num_id, 'Credit Default': y_pred_sgd},\n",
    "                       columns = features, dtype=np.int32)"
   ]
  },
  {
   "cell_type": "code",
   "execution_count": 44,
   "metadata": {},
   "outputs": [
    {
     "data": {
      "text/html": [
       "<div>\n",
       "<style scoped>\n",
       "    .dataframe tbody tr th:only-of-type {\n",
       "        vertical-align: middle;\n",
       "    }\n",
       "\n",
       "    .dataframe tbody tr th {\n",
       "        vertical-align: top;\n",
       "    }\n",
       "\n",
       "    .dataframe thead th {\n",
       "        text-align: right;\n",
       "    }\n",
       "</style>\n",
       "<table border=\"1\" class=\"dataframe\">\n",
       "  <thead>\n",
       "    <tr style=\"text-align: right;\">\n",
       "      <th></th>\n",
       "      <th>Id</th>\n",
       "      <th>Credit Default</th>\n",
       "    </tr>\n",
       "  </thead>\n",
       "  <tbody>\n",
       "    <tr>\n",
       "      <th>0</th>\n",
       "      <td>7500</td>\n",
       "      <td>1</td>\n",
       "    </tr>\n",
       "    <tr>\n",
       "      <th>1</th>\n",
       "      <td>7501</td>\n",
       "      <td>1</td>\n",
       "    </tr>\n",
       "    <tr>\n",
       "      <th>2</th>\n",
       "      <td>7502</td>\n",
       "      <td>0</td>\n",
       "    </tr>\n",
       "    <tr>\n",
       "      <th>3</th>\n",
       "      <td>7503</td>\n",
       "      <td>1</td>\n",
       "    </tr>\n",
       "    <tr>\n",
       "      <th>4</th>\n",
       "      <td>7504</td>\n",
       "      <td>0</td>\n",
       "    </tr>\n",
       "  </tbody>\n",
       "</table>\n",
       "</div>"
      ],
      "text/plain": [
       "     Id  Credit Default\n",
       "0  7500               1\n",
       "1  7501               1\n",
       "2  7502               0\n",
       "3  7503               1\n",
       "4  7504               0"
      ]
     },
     "execution_count": 44,
     "metadata": {},
     "output_type": "execute_result"
    }
   ],
   "source": [
    "predict_sgd.head()"
   ]
  },
  {
   "cell_type": "code",
   "execution_count": 45,
   "metadata": {},
   "outputs": [],
   "source": [
    "predict_xgb = pd.DataFrame({'Id': num_id, 'Credit Default': y_pred_xgb},\n",
    "                       columns = features, dtype=np.int32)"
   ]
  },
  {
   "cell_type": "code",
   "execution_count": 46,
   "metadata": {},
   "outputs": [
    {
     "data": {
      "text/html": [
       "<div>\n",
       "<style scoped>\n",
       "    .dataframe tbody tr th:only-of-type {\n",
       "        vertical-align: middle;\n",
       "    }\n",
       "\n",
       "    .dataframe tbody tr th {\n",
       "        vertical-align: top;\n",
       "    }\n",
       "\n",
       "    .dataframe thead th {\n",
       "        text-align: right;\n",
       "    }\n",
       "</style>\n",
       "<table border=\"1\" class=\"dataframe\">\n",
       "  <thead>\n",
       "    <tr style=\"text-align: right;\">\n",
       "      <th></th>\n",
       "      <th>Id</th>\n",
       "      <th>Credit Default</th>\n",
       "    </tr>\n",
       "  </thead>\n",
       "  <tbody>\n",
       "    <tr>\n",
       "      <th>0</th>\n",
       "      <td>7500</td>\n",
       "      <td>1</td>\n",
       "    </tr>\n",
       "    <tr>\n",
       "      <th>1</th>\n",
       "      <td>7501</td>\n",
       "      <td>1</td>\n",
       "    </tr>\n",
       "    <tr>\n",
       "      <th>2</th>\n",
       "      <td>7502</td>\n",
       "      <td>0</td>\n",
       "    </tr>\n",
       "    <tr>\n",
       "      <th>3</th>\n",
       "      <td>7503</td>\n",
       "      <td>0</td>\n",
       "    </tr>\n",
       "    <tr>\n",
       "      <th>4</th>\n",
       "      <td>7504</td>\n",
       "      <td>0</td>\n",
       "    </tr>\n",
       "  </tbody>\n",
       "</table>\n",
       "</div>"
      ],
      "text/plain": [
       "     Id  Credit Default\n",
       "0  7500               1\n",
       "1  7501               1\n",
       "2  7502               0\n",
       "3  7503               0\n",
       "4  7504               0"
      ]
     },
     "execution_count": 46,
     "metadata": {},
     "output_type": "execute_result"
    }
   ],
   "source": [
    "predict_xgb.head()"
   ]
  },
  {
   "cell_type": "code",
   "execution_count": 47,
   "metadata": {},
   "outputs": [],
   "source": [
    "predict_catboost.to_csv('predict_catboost', index=None)\n",
    "predict_sgd.to_csv('predict_sgd', index=None)\n",
    "predict_xgb.to_csv('predict_xgb', index=None)"
   ]
  }
 ],
 "metadata": {
  "kernelspec": {
   "display_name": "Python 3",
   "language": "python",
   "name": "python3"
  },
  "language_info": {
   "codemirror_mode": {
    "name": "ipython",
    "version": 3
   },
   "file_extension": ".py",
   "mimetype": "text/x-python",
   "name": "python",
   "nbconvert_exporter": "python",
   "pygments_lexer": "ipython3",
   "version": "3.7.3"
  }
 },
 "nbformat": 4,
 "nbformat_minor": 2
}
